{
  "nbformat": 4,
  "nbformat_minor": 0,
  "metadata": {
    "colab": {
      "name": "Transalator (GitHub).ipynb",
      "provenance": [],
      "authorship_tag": "ABX9TyPl7b1NrHKStRhf/3HQiQD7",
      "include_colab_link": true
    },
    "kernelspec": {
      "name": "python3",
      "display_name": "Python 3"
    }
  },
  "cells": [
    {
      "cell_type": "markdown",
      "metadata": {
        "id": "view-in-github",
        "colab_type": "text"
      },
      "source": [
        "<a href=\"https://colab.research.google.com/github/ShivanshGupta1/Transalator-Python/blob/main/Transalator_(GitHub).ipynb\" target=\"_parent\"><img src=\"https://colab.research.google.com/assets/colab-badge.svg\" alt=\"Open In Colab\"/></a>"
      ]
    },
    {
      "cell_type": "code",
      "metadata": {
        "id": "ZE18W4ZRscZc"
      },
      "source": [
        "#English to Hindi Transalator\n",
        "hindiDictionary = {\"hi\":\"नमस्ते\", \"my\":\"मेरा\", \"name\":\"नाम\",\"is\":\"है\",\"i\":\"मुझे\", \"like\":\"पसंद\", \"play\":\"खेलना\",\"favourite\":\"पसंदीदा\",\"food\":\"खाना\",\"talk\":\"बात करता हूँ\",\"in\":\"में\", \"walk\":\"चलता हूँ\", \"swim\":\"तैरता हूँ\", \"shivansh\":\"शिवांश\"  }\n",
        "userInput = input(\"Your sentence: \")\n",
        "userInput = userInput.lower()\n",
        "userInput = userInput.split()\n",
        "for i in range(len(userInput)):\n",
        "  if userInput[i] in hindiDictionary:\n",
        "   print(hindiDictionary[userInput[i]], end = \" \")"
      ],
      "execution_count": null,
      "outputs": []
    }
  ]
}